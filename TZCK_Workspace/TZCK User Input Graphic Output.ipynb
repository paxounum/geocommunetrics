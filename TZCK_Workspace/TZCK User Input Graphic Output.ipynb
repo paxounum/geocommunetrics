{
 "cells": [
  {
   "cell_type": "markdown",
   "metadata": {},
   "source": [
    "### Importing necessary libraries"
   ]
  },
  {
   "cell_type": "code",
   "execution_count": 1,
   "metadata": {},
   "outputs": [],
   "source": [
    "# pyplot is needed for graphing\n",
    "from matplotlib import pyplot as plt\n",
    "\n",
    "# pandas is needed for visual styling\n",
    "import pandas as pd"
   ]
  },
  {
   "cell_type": "markdown",
   "metadata": {},
   "source": [
    "### Greeting and Receiving the Zip Code input from user"
   ]
  },
  {
   "cell_type": "code",
   "execution_count": 5,
   "metadata": {},
   "outputs": [
    {
     "name": "stdout",
     "output_type": "stream",
     "text": [
      "What city do you call home? lak\n",
      "What is a 5-digit zip code for your home place in lak? 28482\n",
      "Great, let's get started on a design for 28482 in lak.\n",
      "28482\n"
     ]
    }
   ],
   "source": [
    "#getting input from user\n",
    "#assigning initial zip code variable as number string\n",
    "\n",
    "def zip_input():\n",
    "    global zip_str \n",
    "    zip_str = input(str(\"What is a 5-digit zip code for your home place in \" + zip_city + '? '))\n",
    "#making sure input is a 5 digit entry\n",
    "    if len(zip_str) != 5:\n",
    "        print(\"\\nSorry, let's try a 5 digit zip code.\")\n",
    "        zip_input()\n",
    "#making sure input is a numeric string\n",
    "    elif zip_str.isnumeric() is False:\n",
    "        print(\"\\nSorry, let's try a 5 digit zip code.\")\n",
    "        zip_input()\n",
    "    else:\n",
    "        print(\"Great, let's get started on a design for \" + zip_str + \" in \" + zip_city + \".\")\n",
    "\n",
    "\n",
    "zip_city = input('What city do you call home? ')\n",
    "zip_input()"
   ]
  },
  {
   "cell_type": "code",
   "execution_count": 9,
   "metadata": {},
   "outputs": [
    {
     "name": "stdout",
     "output_type": "stream",
     "text": [
      "2 8 4 8 2\n",
      "['2', '8', '4', '8', '2']\n"
     ]
    }
   ],
   "source": [
    "#adding a space to the string to make it easier to split\n",
    "\n",
    "zip_space_fix = \" \".join(zip_str)\n",
    "print(zip_space_fix)\n",
    "\n",
    "#making the input into a list\n",
    "\n",
    "zip_list = zip_space_fix.split()\n",
    "print(zip_list)"
   ]
  },
  {
   "cell_type": "code",
   "execution_count": null,
   "metadata": {},
   "outputs": [],
   "source": [
    "#During this step I need to translate the numbers into TZCK values (1-5)"
   ]
  },
  {
   "cell_type": "code",
   "execution_count": 8,
   "metadata": {},
   "outputs": [
    {
     "name": "stdout",
     "output_type": "stream",
     "text": [
      "[2, 8, 4, 8, 2]\n"
     ]
    }
   ],
   "source": [
    "#translating the list to a list of integers\n",
    "#establishing first variable list to be graphed, zip_UP\n",
    "\n",
    "map_object = map(int, zip_list)\n",
    "zip_UP = list(map_object)\n",
    "print(zip_UP)"
   ]
  },
  {
   "cell_type": "markdown",
   "metadata": {},
   "source": [
    "### Graphing the input values"
   ]
  },
  {
   "cell_type": "code",
   "execution_count": null,
   "metadata": {},
   "outputs": [],
   "source": [
    "#### How should I deal with the problem that 5 != 5 when graphed upside-down?\n",
    "#### How do I deal with numbers greater than 5 that wrap around the axis in the traditional form?"
   ]
  }
 ],
 "metadata": {
  "kernelspec": {
   "display_name": "Python 3",
   "language": "python",
   "name": "python3"
  },
  "language_info": {
   "codemirror_mode": {
    "name": "ipython",
    "version": 3
   },
   "file_extension": ".py",
   "mimetype": "text/x-python",
   "name": "python",
   "nbconvert_exporter": "python",
   "pygments_lexer": "ipython3",
   "version": "3.7.6"
  }
 },
 "nbformat": 4,
 "nbformat_minor": 4
}
