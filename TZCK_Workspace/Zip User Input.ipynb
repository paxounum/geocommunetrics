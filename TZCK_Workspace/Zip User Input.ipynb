{
 "cells": [
  {
   "cell_type": "markdown",
   "metadata": {},
   "source": [
    "### how to split a string into a list of integers\n",
    "##### from: https://www.kite.com/python/answers/how-to-split-a-string-into-a-list-of-integers-in-python"
   ]
  },
  {
   "cell_type": "code",
   "execution_count": null,
   "metadata": {},
   "outputs": [],
   "source": [
    "# a_string = \"1 2 3\"\n",
    "# a_list = a_string.split()\n",
    "# map_object = map(int, a_list)\n",
    "\n",
    "\n",
    "# list_of_integers = list(map_object)\n",
    "# print(list_of_integers)\n",
    "\n",
    "#OUTPUT\n",
    "# [1, 2, 3]"
   ]
  },
  {
   "cell_type": "code",
   "execution_count": null,
   "metadata": {},
   "outputs": [],
   "source": [
    "zip_str = input(str(\"Please type your 5-digit zip code here: \"))\n",
    "zip_str"
   ]
  },
  {
   "cell_type": "code",
   "execution_count": null,
   "metadata": {},
   "outputs": [],
   "source": [
    "type(zip_str)"
   ]
  },
  {
   "cell_type": "code",
   "execution_count": null,
   "metadata": {
    "scrolled": true
   },
   "outputs": [],
   "source": [
    "zip_str = input(str(\"Please type your 5-digit zip code here: \"))\n",
    "\n",
    "#adding a space to the string to make it easier to split\n",
    "\n",
    "zip_space_fix = \" \".join(zip_str)\n",
    "print(zip_space_fix)"
   ]
  },
  {
   "cell_type": "code",
   "execution_count": null,
   "metadata": {},
   "outputs": [],
   "source": [
    "zip_list = zip_space_fix.split()\n",
    "print(zip_list)"
   ]
  },
  {
   "cell_type": "code",
   "execution_count": null,
   "metadata": {},
   "outputs": [],
   "source": [
    "map_object = map(int, zip_list)\n",
    "zip_list_int = list(map_object)\n",
    "print(zip_list_int)"
   ]
  },
  {
   "cell_type": "markdown",
   "metadata": {},
   "source": [
    "##### Conclusion: I don't need the input to be an \"int\" at all, since I can redefine strings more easily."
   ]
  },
  {
   "cell_type": "markdown",
   "metadata": {},
   "source": [
    "### Alt for turning input 5-digits into a list"
   ]
  },
  {
   "cell_type": "code",
   "execution_count": 2,
   "metadata": {},
   "outputs": [
    {
     "name": "stdout",
     "output_type": "stream",
     "text": [
      "enter zip code: 45654\n",
      "['4', '5', '6', '5', '4']\n"
     ]
    }
   ],
   "source": [
    "zip_alt = input(str(\"enter zip code: \"))\n",
    "zip_space_fix = \" \".join(zip_alt)\n",
    "zip_split_alt = zip_space_fix.split()\n",
    "zip_list_alt = list(zip_split_alt)\n",
    "print(zip_list_alt)"
   ]
  },
  {
   "cell_type": "code",
   "execution_count": null,
   "metadata": {},
   "outputs": [],
   "source": []
  }
 ],
 "metadata": {
  "kernelspec": {
   "display_name": "Python 3",
   "language": "python",
   "name": "python3"
  },
  "language_info": {
   "codemirror_mode": {
    "name": "ipython",
    "version": 3
   },
   "file_extension": ".py",
   "mimetype": "text/x-python",
   "name": "python",
   "nbconvert_exporter": "python",
   "pygments_lexer": "ipython3",
   "version": "3.7.6"
  }
 },
 "nbformat": 4,
 "nbformat_minor": 4
}
