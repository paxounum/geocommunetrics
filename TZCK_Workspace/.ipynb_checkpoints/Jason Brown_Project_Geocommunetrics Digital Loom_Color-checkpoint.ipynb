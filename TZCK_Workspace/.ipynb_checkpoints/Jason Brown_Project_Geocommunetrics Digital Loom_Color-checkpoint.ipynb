{
 "cells": [
  {
   "cell_type": "markdown",
   "metadata": {},
   "source": [
    "### Welcome to the Geocommunetrics Digital Loom\n",
    "\n",
    "#### This program was created in order to reproduce the zip code-based design process used by TZCK through a digital interface. The TZCK method translates zip codes across specific values on a limited grid to make an patterned surface abstractly representative of a place. \n",
    "\n",
    "#### Users of this program will be able to input their 5-digit zip code and see 3 iterations of what their place-based design looks like. For examples of the traditional, hand-drawn technique, see geocommunetrics.com or @geocommunetrics on Instagram. \n",
    "\n",
    "#### This is a project for private use by its writer, Jason Brown, and for experimentation with the Creative Coding: Python Class."
   ]
  },
  {
   "cell_type": "markdown",
   "metadata": {},
   "source": [
    "### Pseudocode: \n",
    "#### What am I trying to do?"
   ]
  },
  {
   "cell_type": "code",
   "execution_count": null,
   "metadata": {},
   "outputs": [],
   "source": [
    "# First I will define the dictionary of TZCK number values, which graph differently than typical values.\n",
    "# TZCK values graph establish a 5-digit limit on the grid as an aesthetic equivalent to zip code length.\n",
    "# Dictionaries will be defined for numbers going up and numbers going down, based on a 5-digit limit.\n",
    "# Input for a 5-digit numerical zip code will be asked of the user as a string of numbers.\n",
    "# The user input will be filtered through the TZCK dictionary, translating strings to appropriate values. \n",
    "# The list will then be manipulated and reproduced to create sets for the clockwise rotations on the chart.\n",
    "# Clockwise rotations are created by switchin axes and reversing the order of the list.\n",
    "# Once translated, the string numbers will be mapped as integers so that they can be plotted.\n",
    "# Matplotlib and Pandas will be imported for visualizations.\n",
    "# The first \"tile\" of the zip code pattern will be charted using matplotlib and four rotating iterations of the zip code.\n",
    "# The tile will be shown to the user.\n",
    "# Two funtions will be created to show two versions of the tile repeated\n",
    "# This funtions will use the multi-plot function of matplotlib to create repetitive patterns.\n",
    "# Function \"textile\" will create a 4x4 multi-plot, which will interate the tile in the same direction over 16 fields.\n",
    "# Function \"mirror\" will create a 2x2 multi-plot, which will create a mirror image of the two tiles over 4 fields\n",
    "# The user will then be able to export the image to file. \n"
   ]
  },
  {
   "cell_type": "markdown",
   "metadata": {},
   "source": [
    "### The Program: \n",
    "#### Below is funtioning code, including custom dictionary, user input, translation, and digital textile output and export option."
   ]
  },
  {
   "cell_type": "code",
   "execution_count": null,
   "metadata": {},
   "outputs": [],
   "source": [
    "#defining an input function for controlled input\n",
    "def zip_input():\n",
    "    global zip_str \n",
    "    zip_str = input(str(\"What is a 5-digit zip code for your home place in \" + city + '? '))\n",
    "#making sure input is a 5 digit entry\n",
    "    if len(zip_str) != 5:\n",
    "        print(\"\\nSorry, let's try a 5 digit zip code.\")\n",
    "        zip_input()\n",
    "#making sure input is a numeric string\n",
    "    elif zip_str.isnumeric() is False:\n",
    "        print(\"\\nSorry, let's try a 5 digit zip code.\")\n",
    "        zip_input()\n",
    "    else:\n",
    "        print(\"Great, let's get started on a design for \" + zip_str + \" in \" + city + \".\")\n",
    "\n",
    "city = input('''Welcome to the Geocommunetrics Digital Loom!\n",
    "Today we are going to make a repeating textile pattern\n",
    "just by using the numbers from a zip code in the United States.\n",
    "\\n\n",
    "Let's start with a simple question:\n",
    "What city in the US do you call home? ''')\n",
    "zip_input()"
   ]
  },
  {
   "cell_type": "code",
   "execution_count": null,
   "metadata": {},
   "outputs": [],
   "source": [
    "#tranlating to alpha variables\n",
    "\n",
    "\n",
    "a = zip_str[0]\n",
    "b = zip_str[1]\n",
    "c = zip_str[2]\n",
    "d = zip_str[3]\n",
    "e = zip_str[4]\n",
    "\n",
    "print(a, b, c, d, e)\n",
    "print(zip_str)"
   ]
  },
  {
   "cell_type": "code",
   "execution_count": null,
   "metadata": {},
   "outputs": [],
   "source": [
    "#defining unique values to digits\n",
    "tzck_dict_up = {\"1\":\"1\", \"2\":\"2\", \"3\":\"3\", \"4\":\"4\", \"5\":\"5\", \"6\":\"1\", \"7\":\"2\", \"8\":\"3\", \"9\":\"4\", \"0\":\"0\"}\n",
    "tzck_dict_dwn = {\"1\":\"5\", \"2\":\"4\", \"3\":\"3\", \"4\":\"2\", \"5\":\"1\", \"6\":\"5\", \"7\":\"4\", \"8\":\"3\", \"9\":\"2\", \"0\":\"6\"}\n",
    "\n",
    "#translating input values to TZCK values through dictionaries\n",
    "zip_up = list(tzck_dict_up[a]+tzck_dict_up[b]+tzck_dict_up[c]+tzck_dict_up[d]+tzck_dict_up[e])\n",
    "zip_dwn = list(tzck_dict_dwn[e]+tzck_dict_dwn[d]+tzck_dict_dwn[c]+tzck_dict_dwn[b]+tzck_dict_dwn[a])\n",
    "print(zip_up)\n",
    "print(zip_dwn)"
   ]
  },
  {
   "cell_type": "code",
   "execution_count": null,
   "metadata": {},
   "outputs": [],
   "source": [
    "map_up = map(int, zip_up)\n",
    "map_dwn = map(int, zip_dwn)\n",
    "int_up = list(map_up)\n",
    "int_dwn = list(map_dwn)\n",
    "zip_up = int_up\n",
    "zip_dwn = int_dwn\n",
    "print(zip_up)\n",
    "print(zip_dwn)\n"
   ]
  },
  {
   "cell_type": "code",
   "execution_count": null,
   "metadata": {},
   "outputs": [],
   "source": [
    "zip_right = zip_up[::-1]\n",
    "zip_left = zip_dwn[::-1]\n",
    "print(city)\n",
    "print(zip_str)\n",
    "print(\"UP is: \")\n",
    "print(zip_up)\n",
    "print(\"DWN is: \")\n",
    "print(zip_dwn)\n",
    "print(\"RIGHT is: \")\n",
    "print(zip_right)\n",
    "print(\"LEFT is: \")\n",
    "print(zip_left)\n"
   ]
  },
  {
   "cell_type": "markdown",
   "metadata": {},
   "source": [
    "Graphing the zip code to create the first \"tile.\"\n",
    "This is the graphic represetation of your place!"
   ]
  },
  {
   "cell_type": "code",
   "execution_count": null,
   "metadata": {
    "scrolled": true
   },
   "outputs": [],
   "source": [
    "#graphing the resulting lists\n",
    "from matplotlib import pyplot as plt\n",
    "import random\n",
    "\n",
    "col_back = [\"#f3e6e3\",\"#dbe3e5\",\"#f7f2e7\"]\n",
    "col_line = [\"#726a95\",\"#709fb0\",\"#7ea04d\"]\n",
    "color_b = random.choice(col_back)\n",
    "color_l = random.choice(col_line)\n",
    "\n",
    "placement = [1,2,3,4,5]\n",
    "\n",
    "plt.figure(figsize=(4,4), facecolor=random.choice(col_back))\n",
    "#blue\n",
    "plt.plot(placement,zip_up,lw=5, color=color_l )\n",
    "#orange\n",
    "plt.plot(placement,zip_dwn,lw=5, color=color_l)\n",
    "#green\n",
    "plt.plot(zip_right, placement,lw=5, color=color_l)\n",
    "#red\n",
    "plt.plot(zip_left, placement,lw=5, color=color_l)\n",
    "placement = [1, 2, 3, 4, 5]\n",
    "\n",
    "plt.axis('off')\n",
    "plt.show()\n",
    "print(color_l)"
   ]
  },
  {
   "cell_type": "markdown",
   "metadata": {},
   "source": [
    "Creating the reflected Mirror iteration:"
   ]
  },
  {
   "cell_type": "code",
   "execution_count": null,
   "metadata": {},
   "outputs": [],
   "source": [
    "col_back = [\"#f3e6e3\",\"#dbe3e5\",\"#f7f2e7\"]\n",
    "col_line = [\"#726a95\",\"#709fb0\",\"#7ea04d\"]\n",
    "color_b = random.choice(col_back)\n",
    "color_l = random.choice(col_line)\n",
    "\n",
    "#drawing the 2x2 subplots\n",
    "fig, axs = plt.subplots(ncols=2, nrows=2, figsize = (5,5),facecolor=random.choice(col_back))\n",
    "\n",
    "#assigning data to those subplots\n",
    "#turning the axis off\n",
    "\n",
    "axs[0,0].plot(placement,zip_up, color = color_l, lw = 5)\n",
    "axs[0,0].plot(placement,zip_dwn, color = color_l, lw = 5)\n",
    "axs[0,0].plot(zip_right, placement,color = color_l, lw = 5)\n",
    "axs[0,0].plot(zip_left, placement,color = color_l, lw = 5)\n",
    "axs[0,0].axis('off')\n",
    "\n",
    "#reversed the zip order so that shape would be mirrored\n",
    "axs[0,1].plot(placement,zip_up[::-1], color = color_l, lw = 5)\n",
    "axs[0,1].plot(placement,zip_dwn[::-1], color = color_l, lw = 5)\n",
    "axs[0,1].plot(zip_right[::-1], placement,color = color_l, lw = 5)\n",
    "axs[0,1].plot(zip_left[::-1], placement,color = color_l, lw = 5)\n",
    "axs[0,1].axis('off')\n",
    "\n",
    "axs[1,0].plot(placement,zip_up[::-1], color = color_l, lw = 5)\n",
    "axs[1,0].plot(placement,zip_dwn[::-1], color = color_l, lw = 5)\n",
    "axs[1,0].plot(zip_right[::-1], placement,color = color_l, lw = 5)\n",
    "axs[1,0].plot(zip_left[::-1], placement,color = color_l, lw = 5)\n",
    "axs[1,0].axis('off')\n",
    "\n",
    "axs[1,1].plot(placement,zip_up, color = color_l, lw = 5)\n",
    "axs[1,1].plot(placement,zip_dwn, color = color_l, lw = 5)\n",
    "axs[1,1].plot(zip_right, placement,color = color_l, lw = 5)\n",
    "axs[1,1].plot(zip_left, placement,color = color_l, lw = 5)\n",
    "axs[1,1].axis('off')\n",
    "\n",
    "fig.tight_layout()\n",
    "\n",
    "#eliminate space between plots\n",
    "plt.subplots_adjust(left=None, bottom=None, right=None, top=None, wspace=-.09, hspace=-.09)\n",
    "plt.show()"
   ]
  },
  {
   "cell_type": "markdown",
   "metadata": {},
   "source": [
    "Creating the repetitive Textile iteration: "
   ]
  },
  {
   "cell_type": "code",
   "execution_count": null,
   "metadata": {
    "scrolled": true
   },
   "outputs": [],
   "source": [
    "def textile():\n",
    "    grid = 4\n",
    "    fig, axs = plt.subplots(ncols=grid, nrows=grid,figsize=(8,8),facecolor=random.choice(col_back))\n",
    "    col = 0\n",
    "    row = 0\n",
    "    line = 0\n",
    "    for rep in range (1,grid):\n",
    "        for col in range (0,grid):\n",
    "            axs[row,col].plot(placement,zip_up, color = color_l, lw = 3)\n",
    "            axs[row,col].plot(placement,zip_dwn, color = color_l, lw = 3)\n",
    "            axs[row,col].plot(zip_right, placement,color = color_l, lw = 3)\n",
    "            axs[row,col].plot(zip_left, placement,color = color_l, lw = 3)\n",
    "            axs[row,col].axis('off')\n",
    "        row += 1\n",
    "    for col in range (0,grid):\n",
    "        axs[row,col].plot(placement,zip_up, color = color_l, lw = 3)\n",
    "        axs[row,col].plot(placement,zip_dwn, color = color_l, lw = 3)\n",
    "        axs[row,col].plot(zip_right, placement,color = color_l, lw = 3)\n",
    "        axs[row,col].plot(zip_left, placement,color = color_l, lw = 3)\n",
    "        axs[row,col].axis('off')\n",
    "    row += 1\n",
    "        \n",
    "textile()\n",
    "plt.subplots_adjust(left=None, bottom=None, right=None, top=None, wspace=-.09, hspace=-.09)\n",
    "plt.show()"
   ]
  },
  {
   "cell_type": "markdown",
   "metadata": {},
   "source": [
    "Option to export to file (collected in the your open directory):"
   ]
  },
  {
   "cell_type": "code",
   "execution_count": null,
   "metadata": {
    "scrolled": true
   },
   "outputs": [],
   "source": [
    "def export():\n",
    "    save = input('''Would you like to save this zip code design? \n",
    "    Please enter Y for yes or N for no: ''')\n",
    "    if save == \"Y\" or \"y\":\n",
    "        textile()\n",
    "        plt.savefig(fname=city + \"_zip_code_pattern.jpg\", dpi=None, facecolor=None, edgecolor=None,orientation='portrait', \n",
    "        papertype=None, format=None,\n",
    "        transparent=True, bbox_inches=None,\n",
    "        metadata=None)\n",
    "        plt.subplots_adjust(left=None, bottom=None, right=None, top=None, wspace=-.09, hspace=-.09)\n",
    "        plt.show\n",
    "        print('''Thanks for stopping by the studio -\n",
    "            see ya later!  (•◡•) /''')\n",
    "    elif save == \"N\" or \"n\":\n",
    "        print('''Thanks for stopping by the studio -\n",
    "            see ya later!  (•◡•) /''')\n",
    "    else:\n",
    "        print(\"Sorry, try that again...\")\n",
    "        export()\n",
    "            \n",
    "export()"
   ]
  },
  {
   "cell_type": "code",
   "execution_count": null,
   "metadata": {},
   "outputs": [],
   "source": []
  },
  {
   "cell_type": "code",
   "execution_count": null,
   "metadata": {},
   "outputs": [],
   "source": []
  }
 ],
 "metadata": {
  "kernelspec": {
   "display_name": "Python 3",
   "language": "python",
   "name": "python3"
  },
  "language_info": {
   "codemirror_mode": {
    "name": "ipython",
    "version": 3
   },
   "file_extension": ".py",
   "mimetype": "text/x-python",
   "name": "python",
   "nbconvert_exporter": "python",
   "pygments_lexer": "ipython3",
   "version": "3.7.6"
  }
 },
 "nbformat": 4,
 "nbformat_minor": 4
}
