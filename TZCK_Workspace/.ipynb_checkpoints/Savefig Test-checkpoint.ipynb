{
 "cells": [
  {
   "cell_type": "code",
   "execution_count": 1,
   "metadata": {},
   "outputs": [
    {
     "data": {
      "image/png": "[encoded data removed]",
      "text/plain": [
       "<Figure size 432x288 with 1 Axes>"
      ]
     },
     "metadata": {
      "needs_background": "light"
     },
     "output_type": "display_data"
    }
   ],
   "source": [
    "# importing the modules \n",
    "import matplotlib.pyplot as plt \n",
    "\n",
    "\n",
    "# creating data and plotting a histogram \n",
    "x =[1, 4, 9, 16, 25, 36, 49, 64, 81, 100] \n",
    "plt.hist(x) \n",
    "\n",
    "# saving the figure. \n",
    "plt.savefig(\"squares1.png\", \n",
    "\t\t\tbbox_inches =\"tight\", \n",
    "\t\t\tpad_inches = 1, \n",
    "\t\t\ttransparent = True, \n",
    "\t\t\tfacecolor =\"g\", \n",
    "\t\t\tedgecolor ='w', \n",
    "\t\t\torientation ='landscape') \n",
    "\n",
    "plt.show() \n"
   ]
  },
  {
   "cell_type": "code",
   "execution_count": null,
   "metadata": {},
   "outputs": [],
   "source": []
  }
 ],
 "metadata": {
  "kernelspec": {
   "display_name": "Python 3",
   "language": "python",
   "name": "python3"
  },
  "language_info": {
   "codemirror_mode": {
    "name": "ipython",
    "version": 3
   },
   "file_extension": ".py",
   "mimetype": "text/x-python",
   "name": "python",
   "nbconvert_exporter": "python",
   "pygments_lexer": "ipython3",
   "version": "3.7.6"
  }
 },
 "nbformat": 4,
 "nbformat_minor": 4
}
