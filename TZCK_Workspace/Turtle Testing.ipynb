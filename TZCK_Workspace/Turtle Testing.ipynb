{
 "cells": [
  {
   "cell_type": "code",
   "execution_count": 4,
   "metadata": {},
   "outputs": [
    {
     "name": "stdout",
     "output_type": "stream",
     "text": [
      "\n"
     ]
    },
    {
     "data": {
      "text/plain": [
       "''"
      ]
     },
     "execution_count": 4,
     "metadata": {},
     "output_type": "execute_result"
    }
   ],
   "source": [
    "#I am not sure I understand what do you mean as the \"line graph\", https://en.wikipedia.org/wiki/Line_graph or https://en.wikipedia.org/wiki/Line_chart? For the second case it may be done, for example, for sinus function, with the following simplified code.\n",
    "\n",
    "import turtle as tr\n",
    "import math as m\n",
    "\n",
    "x0, y0 = -300, 275  # The point near the upper left corner of the Turtle screen - virtual origin of coordinates\n",
    "Y0 = -y0 + 100  # The reference vertical coordinate for the second function\n",
    "A0 = 100  # The amplitude of sinus function\n",
    "f0 = 80   # 1/frequency (reverse frequency)\n",
    "\n",
    "def draw1():\n",
    "   x1 = 0\n",
    "   y1 = A0 - A0 * m.sin(x1/f0)\n",
    "   tr.goto(x0 + x1, y0 - y1)\n",
    "   tr.down()\n",
    "   tr.dot(size = 1)\n",
    "   for x2 in range(abs(x0)*2):\n",
    "      y2 = A0 - A0 * m.sin(x1/f0)\n",
    "      tr.goto(x0 + x2, y0 - y2)\n",
    "      tr.dot(size = 1)\n",
    "      x1, y1 = x2, y2\n",
    "\n",
    "def draw2(f0):\n",
    "   x1 = 0\n",
    "   y1 = Y0 + A0 * m.sin(x1/f0)\n",
    "   tr.goto(x0 + x1, y1)\n",
    "   tr.down()\n",
    "   tr.dot(size = 1)\n",
    "   for x2 in range(abs(x0)*2):\n",
    "      y2 = Y0 + A0 * m.sin(x1/f0)\n",
    "      tr.goto(x0 + x2, y2)\n",
    "      tr.dot(size = 1)\n",
    "      x1, y1 = x2, y2\n",
    "\n",
    "tr.speed(5)\n",
    "tr.up()\n",
    "tr.goto(x0, y0)\n",
    "tr.hideturtle()\n",
    "tr.color('red')\n",
    "draw1()  # The pivot point - the virtual origin of coordinates (x0 and y0)\n",
    "\n",
    "tr.up()\n",
    "tr.goto(x0,y0)\n",
    "tr.color('blue')\n",
    "draw2(f0/2)  # The pivot point - x0 and Y0\n",
    "input()      # waiting for the <Enter> press in the console window"
   ]
  },
  {
   "cell_type": "code",
   "execution_count": 2,
   "metadata": {},
   "outputs": [],
   "source": []
  },
  {
   "cell_type": "code",
   "execution_count": null,
   "metadata": {},
   "outputs": [],
   "source": []
  }
 ],
 "metadata": {
  "kernelspec": {
   "display_name": "Python 3",
   "language": "python",
   "name": "python3"
  },
  "language_info": {
   "codemirror_mode": {
    "name": "ipython",
    "version": 3
   },
   "file_extension": ".py",
   "mimetype": "text/x-python",
   "name": "python",
   "nbconvert_exporter": "python",
   "pygments_lexer": "ipython3",
   "version": "3.7.6"
  }
 },
 "nbformat": 4,
 "nbformat_minor": 4
}
